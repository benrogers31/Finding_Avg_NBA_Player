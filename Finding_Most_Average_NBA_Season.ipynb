{
 "cells": [
  {
   "cell_type": "code",
   "execution_count": null,
   "metadata": {},
   "outputs": [],
   "source": [
    "import matplotlib.pyplot as plt\n",
    "import pandas as pd\n",
    "from scipy.spatial import distance\n",
    "from sklearn import preprocessing as pre"
   ]
  },
  {
   "cell_type": "markdown",
   "metadata": {},
   "source": [
    "<h2> Here we are getting the data organized based on a specified starting year </h2>"
   ]
  },
  {
   "cell_type": "code",
   "execution_count": null,
   "metadata": {},
   "outputs": [],
   "source": [
    "#THIS IS THE YEAR WE WANT TO START AND FINISH CALCULATING THE AVERAGE FROM\n",
    "#min year is 1980 because the stats are pretty sketchy prior\n",
    "\n",
    "start_year = 1980\n",
    "end_year = 2020"
   ]
  },
  {
   "cell_type": "code",
   "execution_count": null,
   "metadata": {},
   "outputs": [],
   "source": [
    "all_players_df = pd.read_csv(\"csv_files/player_stats_\"+str(start_year)+\".csv\")\n",
    "all_players_df = all_players_df.drop_duplicates('NAME', keep='first')\n",
    "all_players_df['YEAR']= start_year\n",
    "\n",
    "for year in range(start_year+1, end_year+1):\n",
    "    \n",
    "    #store current year in df\n",
    "    current_year_players_df = pd.read_csv(\"csv_files/player_stats_\"+str(year)+\".csv\")\n",
    "\n",
    "    #since some players were traded during each season their stats are split first showing TOT (total season)\n",
    "    #and the following rows showing their stats specific for their teams\n",
    "    #since the total is always first we can drop all duplicates following the first instance (ASSUMING NO PLAYERS HAVE THE SAME NAME)\n",
    "    current_year_players_df = current_year_players_df.drop_duplicates('NAME', keep='first')\n",
    "    current_year_players_df['YEAR'] = year\n",
    "    #appending the current year to all previous years \n",
    "    all_players_df = all_players_df.append(current_year_players_df, ignore_index=True)\n",
    "    \n",
    "    \n",
    "\n",
    "all_players_df\n",
    "    "
   ]
  },
  {
   "cell_type": "code",
   "execution_count": null,
   "metadata": {},
   "outputs": [],
   "source": [
    "#HERE WE WILL SET CRITERIA FOR OUR DATA BASE AND GET RID OF NANs\n",
    "\n",
    "#filling null values with 0\n",
    "all_players_df = all_players_df.fillna(0)\n",
    "\n",
    "######### UNCOMMENT IF YOU ONLY WANT TO LOOK AT CERTAIN POSITIONS #############\n",
    "# position = 'C'\n",
    "# players_df = all_players_df[all_players_df['POS'] == ' ' + position]\n",
    "\n",
    "######### UNCOMMENT IF YOU ONLY WANT TO LOOK AT CERTAIN TEAM #############\n",
    "# team = 'TOR'\n",
    "# players_df = all_players_df[all_players_df['TEAM'] == ' ' + team]\n",
    "\n",
    "######### UNCOMMENT IF WE WANT ALL PLAYERS #############\n",
    "players_df = all_players_df\n",
    "\n",
    "players_df = players_df.reset_index()\n",
    "\n"
   ]
  },
  {
   "cell_type": "markdown",
   "metadata": {},
   "source": [
    "<h2> Adding helper methods </h2>\n",
    "<p> The stats that we want from players to include are pts, reb, ast, stl, blk, tov, pf which are already in this data frame. But to make the most accurate comparisons we are going to want TS% 3PAr and FTr which are not in the df therefore have to be calculated. These helper methods make such calculations </p>"
   ]
  },
  {
   "cell_type": "code",
   "execution_count": null,
   "metadata": {},
   "outputs": [],
   "source": [
    "#Helper methods that take in the original data frame and output each stat \n",
    "def add_true_shooting(df):\n",
    "    list_of_TS = []\n",
    "    #goes through each row of the df and uses data to calculate each stat\n",
    "    for index, player in df.iterrows():\n",
    "        #this if statement prevents a divide by zero exception\n",
    "        if(player['FGA']==0):\n",
    "            list_of_TS.append(0.00000)\n",
    "            continue\n",
    "        ts = player['PTS']/(2*(player['FGA']+(0.44*player['FTA'])))\n",
    "        #appends this calculated stat to the list \n",
    "        list_of_TS.append(ts)\n",
    "    #adds list to dataframe with proper header    \n",
    "    df['TS'] = list_of_TS\n",
    "    return df\n",
    "\n",
    "#these are methods are similar to the one above just implementing their own stat\n",
    "def add_3PAr(df):\n",
    "    list_of_3PAr = []\n",
    "    for index, player in df.iterrows():\n",
    "        if(player['FGA']==0):\n",
    "            list_of_3PAr.append(0.00000)\n",
    "            continue\n",
    "        val = player['3PA']/player['FGA']\n",
    "        list_of_3PAr.append(val)\n",
    "       \n",
    "    df['3PAr'] = list_of_3PAr\n",
    "    return df\n",
    "\n",
    "def add_FTr(df):\n",
    "    list_of_FTr = []\n",
    "    for index, player in df.iterrows():\n",
    "        if(player['FGA']==0):\n",
    "            list_of_FTr.append(0.00000)\n",
    "            continue\n",
    "        val = player['FTA']/player['FGA']\n",
    "        list_of_FTr.append(val)\n",
    "       \n",
    "    df['FTr'] = list_of_FTr\n",
    "    return df\n",
    "\n",
    "def make_per_36(df): \n",
    "    for index , player in df.iterrows():\n",
    "        if player['MP'] == 0:\n",
    "            continue\n",
    "        else:\n",
    "            multiplier = 36 / player['MP']\n",
    "\n",
    "        df.loc[index,['MP','FG','FGA','3P','3PA','2P','2PA','FT','FTA','ORB','DRB','TRB','AST','STL','BLK','TOV','PF','PTS']] *= multiplier\n",
    "       \n",
    "        \n",
    "        if index % int(len(df)*0.25) == 0:\n",
    "            print(str(index) + \" players stats adjusted\")\n",
    "        \n",
    "    return df\n",
    "        \n",
    "    \n",
    "    "
   ]
  },
  {
   "cell_type": "markdown",
   "metadata": {},
   "source": [
    "   <h3> Here we are going to add the stats from helper methods if the league tracked those stats at that time</h3>"
   ]
  },
  {
   "cell_type": "code",
   "execution_count": null,
   "metadata": {},
   "outputs": [],
   "source": [
    "#adding true shooting 3PAr and FTr to our data frame that is not adjusted per 36\n",
    "if (start_year >= 1980):\n",
    "    players_df = add_true_shooting(add_3PAr(add_FTr(players_df )))\n",
    "\n"
   ]
  },
  {
   "cell_type": "markdown",
   "metadata": {},
   "source": [
    "<h2> Here we are going to decide if we want the stats adjusted per 36 or not </h2>"
   ]
  },
  {
   "cell_type": "code",
   "execution_count": null,
   "metadata": {},
   "outputs": [],
   "source": [
    "#################### Here we change the boolean value ###########\n",
    "per_36 = True\n",
    "#################################################################\n",
    "\n",
    "\n",
    "if per_36: \n",
    "    players_df = make_per_36(players_df)\n",
    "    \n",
    "    \n",
    "    \n"
   ]
  },
  {
   "cell_type": "markdown",
   "metadata": {},
   "source": [
    "<h2> Finding averages for player logistics </h2>"
   ]
  },
  {
   "cell_type": "markdown",
   "metadata": {},
   "source": [
    "<h3> Looking at games played </h3>"
   ]
  },
  {
   "cell_type": "code",
   "execution_count": null,
   "metadata": {},
   "outputs": [],
   "source": [
    "#checking what is the average number of games played \n",
    "print(\"Average Games Played is: \" + str(players_df['G'].mean()))\n",
    "\n",
    "#tor_players_df.hist(column='GP').show()\n",
    "plt.style.use('fivethirtyeight')\n",
    "\n",
    "#making the plot \n",
    "gamesPlayedHist, g = plt.subplots()\n",
    "\n",
    "g.hist(players_df['G'],color='red',bins=range(0,83),rwidth=1)\n",
    "g.set_xlabel(\"Games Played\")\n",
    "g.set_ylabel(\"Number of Players\")\n",
    "g.set_title(\"Distribution of Games Played per Season\")\n",
    "g.plot()"
   ]
  },
  {
   "cell_type": "code",
   "execution_count": null,
   "metadata": {},
   "outputs": [],
   "source": [
    "# print(str(len(players_df.loc[players_df['G']== 82])))\n",
    "\n",
    "# players_df.loc[players_df['G']== 82].head(10)"
   ]
  },
  {
   "cell_type": "markdown",
   "metadata": {},
   "source": [
    "<h3> Now we are looking at average age </h3>"
   ]
  },
  {
   "cell_type": "code",
   "execution_count": null,
   "metadata": {},
   "outputs": [],
   "source": [
    "#checking what is the average number of games played \n",
    "print(\"Average Age is: \" + str(all_players_df['AGE'].mean()))\n",
    "\n",
    "\n",
    "plt.style.use('fivethirtyeight')\n",
    "\n",
    "#making the plot \n",
    "gamesPlayedHist, g = plt.subplots()\n",
    "\n",
    "g.hist(all_players_df['AGE'],color='red',rwidth=0.75, bins=range(18,46))\n",
    "g.set_xlabel(\"Games Played\")\n",
    "g.set_ylabel(\"Number of Players\")\n",
    "g.set_title(\"Distribution of Player Ages\")\n",
    "g.plot()"
   ]
  },
  {
   "cell_type": "markdown",
   "metadata": {},
   "source": [
    "<h2> Finding average stats for nba players (no adjustment for minutes) </h2>"
   ]
  },
  {
   "cell_type": "markdown",
   "metadata": {},
   "source": [
    "<h3> Finding stats that won't be used in comparison </h3>"
   ]
  },
  {
   "cell_type": "code",
   "execution_count": null,
   "metadata": {},
   "outputs": [],
   "source": [
    "\n",
    "players_stats_df = players_df[['PTS', 'AST', 'TRB', 'STL','BLK','TS','3PAr', 'FTr','TOV','PF']]\n",
    "#players_stats_NA_df = players_df[['PTS', 'AST', 'TRB']]\n",
    "\n",
    "#Taking the mean for each column of our players dataframe\n",
    "avg_player = players_stats_df.mean()\n",
    "\n",
    "avg_player\n",
    "\n",
    "#players_stats_NA_df"
   ]
  },
  {
   "cell_type": "markdown",
   "metadata": {},
   "source": [
    "<h3> Finding most average player </h3> \n",
    "<p> Here we are going do normalize the dataframes so that the distance measurements will be of equal weights. Then we will find how similar each player's stats are to the average by finding the distance between stat vectors. This measurement will be made using eucliadian distance and cosine similarity </p> "
   ]
  },
  {
   "cell_type": "code",
   "execution_count": null,
   "metadata": {},
   "outputs": [],
   "source": [
    "#Firsr we have to append the mean average player to a dataframe\n",
    "avg_player_df = pd.DataFrame([avg_player])\n",
    "\n",
    "df_to_normalize = pd.concat([players_stats_df,avg_player_df])\n",
    "\n"
   ]
  },
  {
   "cell_type": "code",
   "execution_count": null,
   "metadata": {},
   "outputs": [],
   "source": [
    "#now we have to normalize the data \n",
    "x = df_to_normalize.values #returns a numpy array\n",
    "min_max_scaler = pre.MinMaxScaler()\n",
    "x_scaled = min_max_scaler.fit_transform(x)\n",
    "df_normalized_data = pd.DataFrame(x_scaled)\n",
    "\n",
    "#printing normalized data\n",
    "#df_normalized_data\n"
   ]
  },
  {
   "cell_type": "code",
   "execution_count": null,
   "metadata": {},
   "outputs": [],
   "source": [
    "#we are going to use test this using euclidian distance and cosine distance \n",
    "#I read euclidian is more useful so that will be the baseline \n",
    "cos_dist = []\n",
    "e_dist = []\n",
    "for i in range(len(players_df)):\n",
    "    name = players_df.iloc[i]['NAME']\n",
    "    year = players_df.at[i,'YEAR']\n",
    "    e_dist.append([name,year, distance.euclidean(df_to_normalize.iloc[-1],df_to_normalize.iloc[i]),i] )\n",
    "    cos_dist.append([name,year,1 - distance.cosine(df_to_normalize.iloc[-1],df_to_normalize.iloc[i]),i] )\n",
    "    \n",
    "e_most_simlar = sorted(e_dist, key=lambda x: x[2])\n",
    "cos_most_simlar = sorted(cos_dist, key=lambda x: x[2], reverse= True)\n",
    "\n",
    "#e_most_simlar[-100:-1]"
   ]
  },
  {
   "cell_type": "code",
   "execution_count": null,
   "metadata": {},
   "outputs": [],
   "source": [
    "e_most_simlar"
   ]
  },
  {
   "cell_type": "code",
   "execution_count": null,
   "metadata": {},
   "outputs": [],
   "source": []
  },
  {
   "cell_type": "code",
   "execution_count": null,
   "metadata": {},
   "outputs": [],
   "source": []
  },
  {
   "cell_type": "code",
   "execution_count": null,
   "metadata": {},
   "outputs": [],
   "source": []
  },
  {
   "cell_type": "code",
   "execution_count": null,
   "metadata": {},
   "outputs": [],
   "source": []
  },
  {
   "cell_type": "code",
   "execution_count": null,
   "metadata": {},
   "outputs": [],
   "source": []
  }
 ],
 "metadata": {
  "kernelspec": {
   "display_name": "Python 3",
   "language": "python",
   "name": "python3"
  },
  "language_info": {
   "codemirror_mode": {
    "name": "ipython",
    "version": 3
   },
   "file_extension": ".py",
   "mimetype": "text/x-python",
   "name": "python",
   "nbconvert_exporter": "python",
   "pygments_lexer": "ipython3",
   "version": "3.7.4"
  }
 },
 "nbformat": 4,
 "nbformat_minor": 2
}
